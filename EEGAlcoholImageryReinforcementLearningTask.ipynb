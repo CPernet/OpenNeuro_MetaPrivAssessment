{
  "cells": [
    {
      "cell_type": "markdown",
      "metadata": {
        "id": "view-in-github",
        "colab_type": "text"
      },
      "source": [
        "<a href=\"https://colab.research.google.com/github/CPernet/OpenNeuro_MetaPrivAssessment/blob/main/EEGAlcoholImageryReinforcementLearningTask.ipynb\" target=\"_parent\"><img src=\"https://colab.research.google.com/assets/colab-badge.svg\" alt=\"Open In Colab\"/></a>"
      ]
    },
    {
      "cell_type": "markdown",
      "id": "b25bf2c4",
      "metadata": {
        "id": "b25bf2c4"
      },
      "source": [
        "# Link to the repo and import local data and library"
      ]
    },
    {
      "cell_type": "code",
      "execution_count": 1,
      "id": "441ec6f6",
      "metadata": {
        "id": "441ec6f6",
        "colab": {
          "base_uri": "https://localhost:8080/"
        },
        "outputId": "d27f4f6b-2749-40ce-d852-997c29360c6f"
      },
      "outputs": [
        {
          "output_type": "stream",
          "name": "stdout",
          "text": [
            "Cloning into 'OpenNeuro_MetaPrivAssessment'...\n",
            "remote: Enumerating objects: 177, done.\u001b[K\n",
            "remote: Counting objects: 100% (177/177), done.\u001b[K\n",
            "remote: Compressing objects: 100% (156/156), done.\u001b[K\n",
            "remote: Total 177 (delta 65), reused 97 (delta 18), pack-reused 0 (from 0)\u001b[K\n",
            "Receiving objects: 100% (177/177), 3.31 MiB | 7.80 MiB/s, done.\n",
            "Resolving deltas: 100% (65/65), done.\n"
          ]
        }
      ],
      "source": [
        "# Import Libraries\n",
        "!git clone https://github.com/CPernet/OpenNeuro_MetaPrivAssessment.git\n",
        "\n",
        "import sys\n",
        "sys.path.append(\"..\")\n",
        "import os\n",
        "os.chdir('OpenNeuro_MetaPrivAssessment') # Change directory to the cloned repository"
      ]
    },
    {
      "cell_type": "code",
      "execution_count": 2,
      "id": "c32842bd",
      "metadata": {
        "id": "c32842bd",
        "colab": {
          "base_uri": "https://localhost:8080/"
        },
        "outputId": "a017b0d2-1a1a-4bd4-fa4a-f358f31df76d"
      },
      "outputs": [
        {
          "output_type": "stream",
          "name": "stderr",
          "text": [
            "W: Skipping acquire of configured file 'main/source/Sources' as repository 'https://r2u.stat.illinois.edu/ubuntu jammy InRelease' does not seem to provide it (sources.list entry misspelt?)\n"
          ]
        }
      ],
      "source": [
        "%%bash\n",
        "set -e\n",
        "sudo apt-get update -qq\n",
        "sudo DEBIAN_FRONTEND=noninteractive \\\n",
        "     apt-get install -qq -y --no-install-recommends r-base r-base-dev"
      ]
    },
    {
      "cell_type": "code",
      "execution_count": 3,
      "id": "766d0cbe",
      "metadata": {
        "id": "766d0cbe",
        "colab": {
          "base_uri": "https://localhost:8080/"
        },
        "outputId": "5878efd7-cc08-4c5b-84fb-b240342d86e1"
      },
      "outputs": [
        {
          "output_type": "stream",
          "name": "stdout",
          "text": [
            "Collecting piflib\n",
            "  Downloading piflib-0.1.1-py3-none-any.whl.metadata (3.4 kB)\n",
            "Requirement already satisfied: numpy>=1.19.0 in /usr/local/lib/python3.11/dist-packages (from piflib) (2.0.2)\n",
            "Requirement already satisfied: pandas>=1.1.0 in /usr/local/lib/python3.11/dist-packages (from piflib) (2.2.2)\n",
            "Requirement already satisfied: python-dateutil>=2.8.2 in /usr/local/lib/python3.11/dist-packages (from pandas>=1.1.0->piflib) (2.9.0.post0)\n",
            "Requirement already satisfied: pytz>=2020.1 in /usr/local/lib/python3.11/dist-packages (from pandas>=1.1.0->piflib) (2025.2)\n",
            "Requirement already satisfied: tzdata>=2022.7 in /usr/local/lib/python3.11/dist-packages (from pandas>=1.1.0->piflib) (2025.2)\n",
            "Requirement already satisfied: six>=1.5 in /usr/local/lib/python3.11/dist-packages (from python-dateutil>=2.8.2->pandas>=1.1.0->piflib) (1.17.0)\n",
            "Downloading piflib-0.1.1-py3-none-any.whl (12 kB)\n",
            "Installing collected packages: piflib\n",
            "Successfully installed piflib-0.1.1\n"
          ]
        }
      ],
      "source": [
        "import pandas as pd\n",
        "import numpy as np\n",
        "import scipy.stats as stats\n",
        "from scipy.stats import spearmanr, kendalltau, linregress\n",
        "import warnings\n",
        "warnings.filterwarnings('ignore')\n",
        "!pip install piflib\n",
        "import logging\n",
        "logging.getLogger('rpy2.rinterface_lib.callbacks').setLevel(logging.ERROR)\n",
        "!pip install -q rpy2\n",
        "import metaprivBIDS_stat as ST\n",
        "from metaprivBIDS_stat import plot_calc\n",
        "from metaprivBIDS_stat import rst_outlier_case2"
      ]
    },
    {
      "cell_type": "markdown",
      "id": "18e03cd7",
      "metadata": {
        "id": "18e03cd7"
      },
      "source": [
        "# Import result files from metaprivBIDS App analysis\n",
        "\n",
        "AL_IMAGE is the raw dataset EEG: Alcohol imagery reinforcement learning task with participants having light and heavy alcohol consumption\n"
      ]
    },
    {
      "cell_type": "code",
      "execution_count": 4,
      "id": "4caebc6d",
      "metadata": {
        "id": "4caebc6d"
      },
      "outputs": [],
      "source": [
        "AL_IMAGE = 'https://s3.amazonaws.com/openneuro.org/ds004515/participants.tsv?versionId=OX_rM1XL_frHnMPy12BwJttx3nN3k8kn'\n",
        "AL_IMAGE = pd.read_csv(AL_IMAGE, sep='\\t')\n",
        "AL_IMAGE.to_csv('EEGAlcoholImageryReinforcementLearningTask/data_ds004515/AL_IMAGE_dataset_ds004515.csv', sep=',', index=False)"
      ]
    },
    {
      "cell_type": "code",
      "execution_count": 5,
      "id": "85823401",
      "metadata": {
        "id": "85823401",
        "outputId": "a443d213-b872-4e83-cd6d-ae110963ec2f",
        "colab": {
          "base_uri": "https://localhost:8080/",
          "height": 206
        }
      },
      "outputs": [
        {
          "output_type": "execute_result",
          "data": {
            "text/plain": [
              "  participant_id  Original_ID sex  age GROUP  BDI  AUDIT  EDUCATION\n",
              "0        sub-001        10600   F   43   CTL   14      1         16\n",
              "1        sub-002        10601   F   50   CTL    2      2         16\n",
              "2        sub-003        10602   F   22   CTL    2      1         18\n",
              "3        sub-004        10603   F   18   CTL    0      1         13\n",
              "4        sub-005        10604   M   31   CTL    1      1         14"
            ],
            "text/html": [
              "\n",
              "  <div id=\"df-264d7ea7-b28b-4715-b789-d412b5c94521\" class=\"colab-df-container\">\n",
              "    <div>\n",
              "<style scoped>\n",
              "    .dataframe tbody tr th:only-of-type {\n",
              "        vertical-align: middle;\n",
              "    }\n",
              "\n",
              "    .dataframe tbody tr th {\n",
              "        vertical-align: top;\n",
              "    }\n",
              "\n",
              "    .dataframe thead th {\n",
              "        text-align: right;\n",
              "    }\n",
              "</style>\n",
              "<table border=\"1\" class=\"dataframe\">\n",
              "  <thead>\n",
              "    <tr style=\"text-align: right;\">\n",
              "      <th></th>\n",
              "      <th>participant_id</th>\n",
              "      <th>Original_ID</th>\n",
              "      <th>sex</th>\n",
              "      <th>age</th>\n",
              "      <th>GROUP</th>\n",
              "      <th>BDI</th>\n",
              "      <th>AUDIT</th>\n",
              "      <th>EDUCATION</th>\n",
              "    </tr>\n",
              "  </thead>\n",
              "  <tbody>\n",
              "    <tr>\n",
              "      <th>0</th>\n",
              "      <td>sub-001</td>\n",
              "      <td>10600</td>\n",
              "      <td>F</td>\n",
              "      <td>43</td>\n",
              "      <td>CTL</td>\n",
              "      <td>14</td>\n",
              "      <td>1</td>\n",
              "      <td>16</td>\n",
              "    </tr>\n",
              "    <tr>\n",
              "      <th>1</th>\n",
              "      <td>sub-002</td>\n",
              "      <td>10601</td>\n",
              "      <td>F</td>\n",
              "      <td>50</td>\n",
              "      <td>CTL</td>\n",
              "      <td>2</td>\n",
              "      <td>2</td>\n",
              "      <td>16</td>\n",
              "    </tr>\n",
              "    <tr>\n",
              "      <th>2</th>\n",
              "      <td>sub-003</td>\n",
              "      <td>10602</td>\n",
              "      <td>F</td>\n",
              "      <td>22</td>\n",
              "      <td>CTL</td>\n",
              "      <td>2</td>\n",
              "      <td>1</td>\n",
              "      <td>18</td>\n",
              "    </tr>\n",
              "    <tr>\n",
              "      <th>3</th>\n",
              "      <td>sub-004</td>\n",
              "      <td>10603</td>\n",
              "      <td>F</td>\n",
              "      <td>18</td>\n",
              "      <td>CTL</td>\n",
              "      <td>0</td>\n",
              "      <td>1</td>\n",
              "      <td>13</td>\n",
              "    </tr>\n",
              "    <tr>\n",
              "      <th>4</th>\n",
              "      <td>sub-005</td>\n",
              "      <td>10604</td>\n",
              "      <td>M</td>\n",
              "      <td>31</td>\n",
              "      <td>CTL</td>\n",
              "      <td>1</td>\n",
              "      <td>1</td>\n",
              "      <td>14</td>\n",
              "    </tr>\n",
              "  </tbody>\n",
              "</table>\n",
              "</div>\n",
              "    <div class=\"colab-df-buttons\">\n",
              "\n",
              "  <div class=\"colab-df-container\">\n",
              "    <button class=\"colab-df-convert\" onclick=\"convertToInteractive('df-264d7ea7-b28b-4715-b789-d412b5c94521')\"\n",
              "            title=\"Convert this dataframe to an interactive table.\"\n",
              "            style=\"display:none;\">\n",
              "\n",
              "  <svg xmlns=\"http://www.w3.org/2000/svg\" height=\"24px\" viewBox=\"0 -960 960 960\">\n",
              "    <path d=\"M120-120v-720h720v720H120Zm60-500h600v-160H180v160Zm220 220h160v-160H400v160Zm0 220h160v-160H400v160ZM180-400h160v-160H180v160Zm440 0h160v-160H620v160ZM180-180h160v-160H180v160Zm440 0h160v-160H620v160Z\"/>\n",
              "  </svg>\n",
              "    </button>\n",
              "\n",
              "  <style>\n",
              "    .colab-df-container {\n",
              "      display:flex;\n",
              "      gap: 12px;\n",
              "    }\n",
              "\n",
              "    .colab-df-convert {\n",
              "      background-color: #E8F0FE;\n",
              "      border: none;\n",
              "      border-radius: 50%;\n",
              "      cursor: pointer;\n",
              "      display: none;\n",
              "      fill: #1967D2;\n",
              "      height: 32px;\n",
              "      padding: 0 0 0 0;\n",
              "      width: 32px;\n",
              "    }\n",
              "\n",
              "    .colab-df-convert:hover {\n",
              "      background-color: #E2EBFA;\n",
              "      box-shadow: 0px 1px 2px rgba(60, 64, 67, 0.3), 0px 1px 3px 1px rgba(60, 64, 67, 0.15);\n",
              "      fill: #174EA6;\n",
              "    }\n",
              "\n",
              "    .colab-df-buttons div {\n",
              "      margin-bottom: 4px;\n",
              "    }\n",
              "\n",
              "    [theme=dark] .colab-df-convert {\n",
              "      background-color: #3B4455;\n",
              "      fill: #D2E3FC;\n",
              "    }\n",
              "\n",
              "    [theme=dark] .colab-df-convert:hover {\n",
              "      background-color: #434B5C;\n",
              "      box-shadow: 0px 1px 3px 1px rgba(0, 0, 0, 0.15);\n",
              "      filter: drop-shadow(0px 1px 2px rgba(0, 0, 0, 0.3));\n",
              "      fill: #FFFFFF;\n",
              "    }\n",
              "  </style>\n",
              "\n",
              "    <script>\n",
              "      const buttonEl =\n",
              "        document.querySelector('#df-264d7ea7-b28b-4715-b789-d412b5c94521 button.colab-df-convert');\n",
              "      buttonEl.style.display =\n",
              "        google.colab.kernel.accessAllowed ? 'block' : 'none';\n",
              "\n",
              "      async function convertToInteractive(key) {\n",
              "        const element = document.querySelector('#df-264d7ea7-b28b-4715-b789-d412b5c94521');\n",
              "        const dataTable =\n",
              "          await google.colab.kernel.invokeFunction('convertToInteractive',\n",
              "                                                    [key], {});\n",
              "        if (!dataTable) return;\n",
              "\n",
              "        const docLinkHtml = 'Like what you see? Visit the ' +\n",
              "          '<a target=\"_blank\" href=https://colab.research.google.com/notebooks/data_table.ipynb>data table notebook</a>'\n",
              "          + ' to learn more about interactive tables.';\n",
              "        element.innerHTML = '';\n",
              "        dataTable['output_type'] = 'display_data';\n",
              "        await google.colab.output.renderOutput(dataTable, element);\n",
              "        const docLink = document.createElement('div');\n",
              "        docLink.innerHTML = docLinkHtml;\n",
              "        element.appendChild(docLink);\n",
              "      }\n",
              "    </script>\n",
              "  </div>\n",
              "\n",
              "\n",
              "    <div id=\"df-8b193483-e57a-4f17-ae65-3e4774e093fb\">\n",
              "      <button class=\"colab-df-quickchart\" onclick=\"quickchart('df-8b193483-e57a-4f17-ae65-3e4774e093fb')\"\n",
              "                title=\"Suggest charts\"\n",
              "                style=\"display:none;\">\n",
              "\n",
              "<svg xmlns=\"http://www.w3.org/2000/svg\" height=\"24px\"viewBox=\"0 0 24 24\"\n",
              "     width=\"24px\">\n",
              "    <g>\n",
              "        <path d=\"M19 3H5c-1.1 0-2 .9-2 2v14c0 1.1.9 2 2 2h14c1.1 0 2-.9 2-2V5c0-1.1-.9-2-2-2zM9 17H7v-7h2v7zm4 0h-2V7h2v10zm4 0h-2v-4h2v4z\"/>\n",
              "    </g>\n",
              "</svg>\n",
              "      </button>\n",
              "\n",
              "<style>\n",
              "  .colab-df-quickchart {\n",
              "      --bg-color: #E8F0FE;\n",
              "      --fill-color: #1967D2;\n",
              "      --hover-bg-color: #E2EBFA;\n",
              "      --hover-fill-color: #174EA6;\n",
              "      --disabled-fill-color: #AAA;\n",
              "      --disabled-bg-color: #DDD;\n",
              "  }\n",
              "\n",
              "  [theme=dark] .colab-df-quickchart {\n",
              "      --bg-color: #3B4455;\n",
              "      --fill-color: #D2E3FC;\n",
              "      --hover-bg-color: #434B5C;\n",
              "      --hover-fill-color: #FFFFFF;\n",
              "      --disabled-bg-color: #3B4455;\n",
              "      --disabled-fill-color: #666;\n",
              "  }\n",
              "\n",
              "  .colab-df-quickchart {\n",
              "    background-color: var(--bg-color);\n",
              "    border: none;\n",
              "    border-radius: 50%;\n",
              "    cursor: pointer;\n",
              "    display: none;\n",
              "    fill: var(--fill-color);\n",
              "    height: 32px;\n",
              "    padding: 0;\n",
              "    width: 32px;\n",
              "  }\n",
              "\n",
              "  .colab-df-quickchart:hover {\n",
              "    background-color: var(--hover-bg-color);\n",
              "    box-shadow: 0 1px 2px rgba(60, 64, 67, 0.3), 0 1px 3px 1px rgba(60, 64, 67, 0.15);\n",
              "    fill: var(--button-hover-fill-color);\n",
              "  }\n",
              "\n",
              "  .colab-df-quickchart-complete:disabled,\n",
              "  .colab-df-quickchart-complete:disabled:hover {\n",
              "    background-color: var(--disabled-bg-color);\n",
              "    fill: var(--disabled-fill-color);\n",
              "    box-shadow: none;\n",
              "  }\n",
              "\n",
              "  .colab-df-spinner {\n",
              "    border: 2px solid var(--fill-color);\n",
              "    border-color: transparent;\n",
              "    border-bottom-color: var(--fill-color);\n",
              "    animation:\n",
              "      spin 1s steps(1) infinite;\n",
              "  }\n",
              "\n",
              "  @keyframes spin {\n",
              "    0% {\n",
              "      border-color: transparent;\n",
              "      border-bottom-color: var(--fill-color);\n",
              "      border-left-color: var(--fill-color);\n",
              "    }\n",
              "    20% {\n",
              "      border-color: transparent;\n",
              "      border-left-color: var(--fill-color);\n",
              "      border-top-color: var(--fill-color);\n",
              "    }\n",
              "    30% {\n",
              "      border-color: transparent;\n",
              "      border-left-color: var(--fill-color);\n",
              "      border-top-color: var(--fill-color);\n",
              "      border-right-color: var(--fill-color);\n",
              "    }\n",
              "    40% {\n",
              "      border-color: transparent;\n",
              "      border-right-color: var(--fill-color);\n",
              "      border-top-color: var(--fill-color);\n",
              "    }\n",
              "    60% {\n",
              "      border-color: transparent;\n",
              "      border-right-color: var(--fill-color);\n",
              "    }\n",
              "    80% {\n",
              "      border-color: transparent;\n",
              "      border-right-color: var(--fill-color);\n",
              "      border-bottom-color: var(--fill-color);\n",
              "    }\n",
              "    90% {\n",
              "      border-color: transparent;\n",
              "      border-bottom-color: var(--fill-color);\n",
              "    }\n",
              "  }\n",
              "</style>\n",
              "\n",
              "      <script>\n",
              "        async function quickchart(key) {\n",
              "          const quickchartButtonEl =\n",
              "            document.querySelector('#' + key + ' button');\n",
              "          quickchartButtonEl.disabled = true;  // To prevent multiple clicks.\n",
              "          quickchartButtonEl.classList.add('colab-df-spinner');\n",
              "          try {\n",
              "            const charts = await google.colab.kernel.invokeFunction(\n",
              "                'suggestCharts', [key], {});\n",
              "          } catch (error) {\n",
              "            console.error('Error during call to suggestCharts:', error);\n",
              "          }\n",
              "          quickchartButtonEl.classList.remove('colab-df-spinner');\n",
              "          quickchartButtonEl.classList.add('colab-df-quickchart-complete');\n",
              "        }\n",
              "        (() => {\n",
              "          let quickchartButtonEl =\n",
              "            document.querySelector('#df-8b193483-e57a-4f17-ae65-3e4774e093fb button');\n",
              "          quickchartButtonEl.style.display =\n",
              "            google.colab.kernel.accessAllowed ? 'block' : 'none';\n",
              "        })();\n",
              "      </script>\n",
              "    </div>\n",
              "\n",
              "    </div>\n",
              "  </div>\n"
            ],
            "application/vnd.google.colaboratory.intrinsic+json": {
              "type": "dataframe",
              "variable_name": "AL_IMAGE",
              "summary": "{\n  \"name\": \"AL_IMAGE\",\n  \"rows\": 54,\n  \"fields\": [\n    {\n      \"column\": \"participant_id\",\n      \"properties\": {\n        \"dtype\": \"string\",\n        \"num_unique_values\": 54,\n        \"samples\": [\n          \"sub-020\",\n          \"sub-050\",\n          \"sub-049\"\n        ],\n        \"semantic_type\": \"\",\n        \"description\": \"\"\n      }\n    },\n    {\n      \"column\": \"Original_ID\",\n      \"properties\": {\n        \"dtype\": \"number\",\n        \"std\": 17,\n        \"min\": 10600,\n        \"max\": 10658,\n        \"num_unique_values\": 54,\n        \"samples\": [\n          10621,\n          10652,\n          10651\n        ],\n        \"semantic_type\": \"\",\n        \"description\": \"\"\n      }\n    },\n    {\n      \"column\": \"sex\",\n      \"properties\": {\n        \"dtype\": \"category\",\n        \"num_unique_values\": 2,\n        \"samples\": [\n          \"M\",\n          \"F\"\n        ],\n        \"semantic_type\": \"\",\n        \"description\": \"\"\n      }\n    },\n    {\n      \"column\": \"age\",\n      \"properties\": {\n        \"dtype\": \"number\",\n        \"std\": 10,\n        \"min\": 18,\n        \"max\": 55,\n        \"num_unique_values\": 30,\n        \"samples\": [\n          48,\n          36\n        ],\n        \"semantic_type\": \"\",\n        \"description\": \"\"\n      }\n    },\n    {\n      \"column\": \"GROUP\",\n      \"properties\": {\n        \"dtype\": \"category\",\n        \"num_unique_values\": 2,\n        \"samples\": [\n          \"ALC\",\n          \"CTL\"\n        ],\n        \"semantic_type\": \"\",\n        \"description\": \"\"\n      }\n    },\n    {\n      \"column\": \"BDI\",\n      \"properties\": {\n        \"dtype\": \"number\",\n        \"std\": 10,\n        \"min\": 0,\n        \"max\": 42,\n        \"num_unique_values\": 19,\n        \"samples\": [\n          14,\n          5\n        ],\n        \"semantic_type\": \"\",\n        \"description\": \"\"\n      }\n    },\n    {\n      \"column\": \"AUDIT\",\n      \"properties\": {\n        \"dtype\": \"number\",\n        \"std\": 6,\n        \"min\": 0,\n        \"max\": 27,\n        \"num_unique_values\": 17,\n        \"samples\": [\n          1,\n          2\n        ],\n        \"semantic_type\": \"\",\n        \"description\": \"\"\n      }\n    },\n    {\n      \"column\": \"EDUCATION\",\n      \"properties\": {\n        \"dtype\": \"number\",\n        \"std\": 2,\n        \"min\": 10,\n        \"max\": 23,\n        \"num_unique_values\": 12,\n        \"samples\": [\n          21,\n          22\n        ],\n        \"semantic_type\": \"\",\n        \"description\": \"\"\n      }\n    }\n  ]\n}"
            }
          },
          "metadata": {},
          "execution_count": 5
        }
      ],
      "source": [
        "AL_IMAGE.head()"
      ]
    },
    {
      "cell_type": "markdown",
      "id": "13414270",
      "metadata": {
        "id": "13414270"
      },
      "source": [
        "The selected quasi identifers are:\n",
        "- age\n",
        "- sex\n",
        "- GROUP\n",
        "- BDI\n",
        "- AUDIT\n",
        "- EDUCATION\n",
        "\n",
        "The selected sensitive variables are:\n",
        "- BDI, AUDIT & GROUP\n"
      ]
    },
    {
      "cell_type": "markdown",
      "id": "ec4744a1",
      "metadata": {
        "id": "ec4744a1"
      },
      "source": [
        "# PIF & SUDA Outliers"
      ]
    },
    {
      "cell_type": "code",
      "execution_count": 7,
      "id": "90028df0",
      "metadata": {
        "id": "90028df0"
      },
      "outputs": [],
      "source": [
        "suda = pd.read_csv('EEGAlcoholImageryReinforcementLearningTask/data_ds004515/SUDA_ds004515.csv', sep=',')\n",
        "pif = pd.read_csv('EEGAlcoholImageryReinforcementLearningTask/data_ds004515/PIF_ds004515.csv', sep=',',index_col='Unnamed: 0').sort_index()"
      ]
    },
    {
      "cell_type": "code",
      "execution_count": 8,
      "id": "c4181362",
      "metadata": {
        "id": "c4181362",
        "colab": {
          "base_uri": "https://localhost:8080/",
          "height": 1000
        },
        "outputId": "33294043-8aa1-4587-c2de-b4b8f89bf962"
      },
      "outputs": [
        {
          "output_type": "display_data",
          "data": {
            "text/plain": [
              "<Figure size 800x500 with 1 Axes>"
            ],
            "image/png": "[encoded data removed]"
          },
          "metadata": {}
        },
        {
          "output_type": "stream",
          "name": "stdout",
          "text": [
            "number of outliers found 0\n"
          ]
        },
        {
          "output_type": "display_data",
          "data": {
            "text/plain": [
              "<Figure size 800x500 with 1 Axes>"
            ],
            "image/png": "[encoded data removed]"
          },
          "metadata": {}
        },
        {
          "output_type": "stream",
          "name": "stdout",
          "text": [
            "number of outliers found 4\n",
            "Joint outlier indices: []\n"
          ]
        }
      ],
      "source": [
        "# SUDA outliers\n",
        "results_suda = ST.rst_outlier_case2(suda, 'dis-score')\n",
        "above_SUDAoutlier_indices = set(results_suda[4]) # Assuming the 4th element (index 3) is the list of outlier indices\n",
        "print('number of outliers found',len(above_SUDAoutlier_indices))\n",
        "\n",
        "#PIF outliers\n",
        "results_pif = ST.rst_outlier_case2(pif, 'RIG')\n",
        "above_PIFoutlier_indices = set(results_pif[4]) # Assuming the 4th element (index 3) is the list of outlier indices\n",
        "print('number of outliers found',len(above_PIFoutlier_indices))\n",
        "\n",
        "# Find the intersection of the two sets\n",
        "joint_outlier_indices_set = above_SUDAoutlier_indices.intersection(above_PIFoutlier_indices)\n",
        "joint_outlier_indices = list(joint_outlier_indices_set)\n",
        "print(\"Joint outlier indices:\", joint_outlier_indices)"
      ]
    },
    {
      "cell_type": "markdown",
      "id": "fe1eb881",
      "metadata": {
        "id": "fe1eb881"
      },
      "source": [
        "## Selected outlier participant"
      ]
    },
    {
      "cell_type": "code",
      "source": [
        "list_above_PIFoutlier_indices"
      ],
      "metadata": {
        "id": "lIyy1zElLyIL",
        "colab": {
          "base_uri": "https://localhost:8080/"
        },
        "outputId": "7e29c93d-e5ea-4c1f-926e-4338682d96b6"
      },
      "id": "lIyy1zElLyIL",
      "execution_count": 11,
      "outputs": [
        {
          "output_type": "execute_result",
          "data": {
            "text/plain": [
              "[16, 41, 35, 30]"
            ]
          },
          "metadata": {},
          "execution_count": 11
        }
      ]
    },
    {
      "cell_type": "code",
      "execution_count": null,
      "id": "0f961e3c",
      "metadata": {
        "id": "0f961e3c",
        "outputId": "d8c9a671-e44c-4467-e4fb-a214bd99f7ed"
      },
      "outputs": [
        {
          "data": {
            "text/plain": [
              "participant_id    sub-031\n",
              "Original_ID         10632\n",
              "sex                     F\n",
              "age                    25\n",
              "GROUP                 ALC\n",
              "BDI                    14\n",
              "AUDIT                   5\n",
              "EDUCATION              15\n",
              "Name: 30, dtype: object"
            ]
          },
          "execution_count": 31,
          "metadata": {},
          "output_type": "execute_result"
        }
      ],
      "source": [
        "AL_IMAGE.loc[30]"
      ]
    },
    {
      "cell_type": "markdown",
      "id": "d5c1ecbc",
      "metadata": {
        "id": "d5c1ecbc"
      },
      "source": [
        "# Correlation among privacy metrics."
      ]
    },
    {
      "cell_type": "code",
      "execution_count": 12,
      "id": "e28e3bb3",
      "metadata": {
        "id": "e28e3bb3",
        "outputId": "ed334663-a612-4ede-ee06-89aab0bc86f6",
        "colab": {
          "base_uri": "https://localhost:8080/"
        }
      },
      "outputs": [
        {
          "output_type": "stream",
          "name": "stdout",
          "text": [
            "Spearman Rank Correlation between suda & pif: 0.679,p-Value 0.0000000163\n"
          ]
        }
      ],
      "source": [
        "correlation_spearman, p_value = spearmanr(suda['dis-score'], pif['RIG'])\n",
        "print(f\"Spearman Rank Correlation between suda & pif: {correlation_spearman:.3f},p-Value {p_value:.10f}\")"
      ]
    },
    {
      "cell_type": "code",
      "execution_count": 14,
      "id": "33882bfc",
      "metadata": {
        "id": "33882bfc",
        "outputId": "16c04551-eb6d-47d0-85cb-fd4ba9720fe2",
        "colab": {
          "base_uri": "https://localhost:8080/",
          "height": 410
        }
      },
      "outputs": [
        {
          "output_type": "display_data",
          "data": {
            "text/plain": [
              "<Figure size 800x400 with 1 Axes>"
            ],
            "image/png": "[encoded data removed]"
          },
          "metadata": {}
        }
      ],
      "source": [
        "from scipy.stats import rankdata\n",
        "import matplotlib.pyplot as plt\n",
        "\n",
        "suda_ranked = rankdata(suda['dis-score'])\n",
        "pif_ranked = rankdata(pif['RIG'])\n",
        "fig, ax = plt.subplots(figsize=(8, 4))\n",
        "ax.scatter(suda_ranked, pif_ranked, alpha=0.3, label='Ranked Data Points')\n",
        "slope, intercept, _, _, _ = linregress(suda_ranked, pif_ranked)\n",
        "ax.plot(suda_ranked, slope * suda_ranked + intercept, color='red', label='Trend Line')\n",
        "ax.set_title(f'Spearman Rank Correlation: {correlation_spearman:.2f},{p_value:.2f}')\n",
        "ax.set_xlabel('Rank of suda[\"dis-score\"]')\n",
        "ax.set_ylabel('Rank of pif[\"RIG\"]')\n",
        "ax.grid(False)\n",
        "ax.legend()\n",
        "plt.show()"
      ]
    },
    {
      "cell_type": "code",
      "execution_count": 15,
      "id": "5043eddc",
      "metadata": {
        "id": "5043eddc",
        "outputId": "de647470-8535-46d4-e844-54a5bcc795fa",
        "colab": {
          "base_uri": "https://localhost:8080/",
          "height": 178
        }
      },
      "outputs": [
        {
          "output_type": "execute_result",
          "data": {
            "text/plain": [
              "GROUP\n",
              "ALC    28\n",
              "CTL    26\n",
              "Name: count, dtype: int64"
            ],
            "text/html": [
              "<div>\n",
              "<style scoped>\n",
              "    .dataframe tbody tr th:only-of-type {\n",
              "        vertical-align: middle;\n",
              "    }\n",
              "\n",
              "    .dataframe tbody tr th {\n",
              "        vertical-align: top;\n",
              "    }\n",
              "\n",
              "    .dataframe thead th {\n",
              "        text-align: right;\n",
              "    }\n",
              "</style>\n",
              "<table border=\"1\" class=\"dataframe\">\n",
              "  <thead>\n",
              "    <tr style=\"text-align: right;\">\n",
              "      <th></th>\n",
              "      <th>count</th>\n",
              "    </tr>\n",
              "    <tr>\n",
              "      <th>GROUP</th>\n",
              "      <th></th>\n",
              "    </tr>\n",
              "  </thead>\n",
              "  <tbody>\n",
              "    <tr>\n",
              "      <th>ALC</th>\n",
              "      <td>28</td>\n",
              "    </tr>\n",
              "    <tr>\n",
              "      <th>CTL</th>\n",
              "      <td>26</td>\n",
              "    </tr>\n",
              "  </tbody>\n",
              "</table>\n",
              "</div><br><label><b>dtype:</b> int64</label>"
            ]
          },
          "metadata": {},
          "execution_count": 15
        }
      ],
      "source": [
        "AL_IMAGE['GROUP'].value_counts()"
      ]
    }
  ],
  "metadata": {
    "kernelspec": {
      "display_name": "Python 3 (ipykernel)",
      "language": "python",
      "name": "python3"
    },
    "language_info": {
      "codemirror_mode": {
        "name": "ipython",
        "version": 3
      },
      "file_extension": ".py",
      "mimetype": "text/x-python",
      "name": "python",
      "nbconvert_exporter": "python",
      "pygments_lexer": "ipython3",
      "version": "3.7.12"
    },
    "colab": {
      "provenance": [],
      "include_colab_link": true
    }
  },
  "nbformat": 4,
  "nbformat_minor": 5
}